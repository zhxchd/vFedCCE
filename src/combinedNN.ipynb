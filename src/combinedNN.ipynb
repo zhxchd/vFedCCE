{
  "nbformat": 4,
  "nbformat_minor": 0,
  "metadata": {
    "colab": {
      "name": "combinedNN.ipynb",
      "provenance": [],
      "collapsed_sections": []
    },
    "kernelspec": {
      "name": "python3",
      "display_name": "Python 3"
    },
    "language_info": {
      "name": "python"
    }
  },
  "cells": [
    {
      "cell_type": "markdown",
      "metadata": {
        "id": "j4yGK93Zk-H3"
      },
      "source": [
        "# Predicting binary credit risking with deep learning models\n",
        "\n",
        "The data set I am using in this notebook is the South German Credit Prediction data set from Kaggle."
      ]
    },
    {
      "cell_type": "markdown",
      "metadata": {
        "id": "tivg-uUHmBdt"
      },
      "source": [
        "## Set up environment"
      ]
    },
    {
      "cell_type": "code",
      "metadata": {
        "id": "SBJFoPopkxbg"
      },
      "source": [
        "import pandas as pd\n",
        "pd.set_option('display.max_colwidth', None)\n",
        "import numpy as np\n",
        "np.set_printoptions(precision=3, suppress=True)\n",
        "import seaborn as sns\n",
        "sns.set(style='whitegrid')\n",
        "import matplotlib.pyplot as plt\n",
        "import tensorflow as tf\n",
        "from tensorflow import keras\n",
        "from keras import layers\n",
        "from tensorflow.keras.layers.experimental import preprocessing\n",
        "from keras import regularizers\n",
        "from sklearn.model_selection import train_test_split\n",
        "import zipfile"
      ],
      "execution_count": 1,
      "outputs": []
    },
    {
      "cell_type": "markdown",
      "metadata": {
        "id": "8-_cu2wJm5nF"
      },
      "source": [
        "## Data preparation"
      ]
    },
    {
      "cell_type": "code",
      "metadata": {
        "id": "GpYHnVTibdUV",
        "colab": {
          "base_uri": "https://localhost:8080/"
        },
        "outputId": "1a67f5f5-4fbf-44ad-f9b0-a284b3d0d3eb"
      },
      "source": [
        "!wget https://archive.ics.uci.edu/ml/machine-learning-databases/00573/SouthGermanCredit.zip\n",
        "with zipfile.ZipFile('SouthGermanCredit.zip', 'r') as zip_ref:\n",
        "    zip_ref.extractall('./SouthGermanCredit/')"
      ],
      "execution_count": 2,
      "outputs": [
        {
          "output_type": "stream",
          "text": [
            "--2021-06-27 15:32:07--  https://archive.ics.uci.edu/ml/machine-learning-databases/00573/SouthGermanCredit.zip\n",
            "Resolving archive.ics.uci.edu (archive.ics.uci.edu)... 128.195.10.252\n",
            "Connecting to archive.ics.uci.edu (archive.ics.uci.edu)|128.195.10.252|:443... connected.\n",
            "HTTP request sent, awaiting response... 200 OK\n",
            "Length: 13130 (13K) [application/x-httpd-php]\n",
            "Saving to: ‘SouthGermanCredit.zip.2’\n",
            "\n",
            "\rSouthGermanCredit.z   0%[                    ]       0  --.-KB/s               \rSouthGermanCredit.z 100%[===================>]  12.82K  --.-KB/s    in 0s      \n",
            "\n",
            "2021-06-27 15:32:07 (93.9 MB/s) - ‘SouthGermanCredit.zip.2’ saved [13130/13130]\n",
            "\n"
          ],
          "name": "stdout"
        }
      ]
    },
    {
      "cell_type": "code",
      "metadata": {
        "id": "GPOkAhmRqsC4"
      },
      "source": [
        "df = pd.read_csv('./SouthGermanCredit/SouthGermanCredit.asc', sep=' ')\n",
        "features = df.copy()\n",
        "labels = features.pop('kredit')\n",
        "trainX, testX, trainY, testY = train_test_split(features, labels, test_size=0.2, random_state=69)"
      ],
      "execution_count": 3,
      "outputs": []
    },
    {
      "cell_type": "markdown",
      "metadata": {
        "id": "uWJOmlQv0t-1"
      },
      "source": [
        "## Helper functions"
      ]
    },
    {
      "cell_type": "code",
      "metadata": {
        "id": "F15JLh5S0wxO"
      },
      "source": [
        "normalizer = preprocessing.Normalization()\n",
        "normalizer.adapt(np.array(trainX))\n",
        "\n",
        "test_results = {}\n",
        "\n",
        "def plot_loss(history):\n",
        "  plt.plot(history.history['loss'], label='loss')\n",
        "  plt.plot(history.history['accuracy'], label='accuracy')\n",
        "  plt.xlabel('Epoch')\n",
        "  # plt.ylabel('Error')\n",
        "  plt.legend()\n",
        "  plt.grid(True)\n",
        "\n",
        "def plot_predictions(prediction):\n",
        "  a = plt.axes(aspect='equal')\n",
        "  plt.scatter(testY, prediction)\n",
        "  plt.xlabel('True Values')\n",
        "  plt.ylabel('Predictions')\n",
        "  # lims = [500, 1000]\n",
        "  # plt.xlim([500, 1000])\n",
        "  # plt.ylim([500, 1000])\n",
        "  _ = plt.plot\n",
        "\n",
        "def plot_accuracy(prediction):\n",
        "  tp = 0\n",
        "  tn = 0\n",
        "  fp = 0\n",
        "  fn = 0\n",
        "  testY_arr = testY.to_numpy()\n",
        "\n",
        "  for x in range(200):\n",
        "    # print(str(testY_arr[x]) + \"; \" + str(prediction[x]))\n",
        "    # print(\"predict is : \" + str(np.argmax(prediction[x])))\n",
        "    if testY_arr[x] == 1:\n",
        "      if np.argmax(prediction[x]) == 1:\n",
        "        tp = tp + 1\n",
        "      else:\n",
        "        fn = fn + 1\n",
        "    else:\n",
        "      if np.argmax(prediction[x]) == 0:\n",
        "        tn = tn + 1\n",
        "      else:\n",
        "        fp = fp + 1\n",
        "  \n",
        "  accuracy = (tp + tn)/(tp + fp + fn + tn)\n",
        "  precision = tp / (tp + fp)\n",
        "  recall = tp / (tp + fn)\n",
        "  specificity = tn / (tn + fp)\n",
        "  print(\"Accuracy: \" + str(accuracy))\n",
        "  print(\"Precision: \" + str(precision))\n",
        "  print(\"Recall: \" + str(recall))\n",
        "  # print(\"Specificity: \" + str(specificity))\n",
        "  print(\"F-Measure: \" + str(2*(recall * precision) / (recall + precision)))"
      ],
      "execution_count": 4,
      "outputs": []
    },
    {
      "cell_type": "markdown",
      "metadata": {
        "id": "g68VAZbN0Auy"
      },
      "source": [
        "# DNN Model"
      ]
    },
    {
      "cell_type": "code",
      "metadata": {
        "id": "xa5E7XBs0HI5"
      },
      "source": [
        "from tensorflow.keras import regularizers\n",
        "\n",
        "batch_size=32\n",
        "learning_rate=1e-3\n",
        "\n",
        "model = tf.keras.Sequential([\n",
        "      normalizer,\n",
        "      layers.Dense(128, activation='elu', kernel_regularizer=regularizers.l2(0.01)),\n",
        "      layers.Dropout(0.5),\n",
        "      layers.Dense(128, activation='elu', kernel_regularizer=regularizers.l2(0.01)),\n",
        "      layers.Dropout(0.5),\n",
        "      layers.Dense(2),\n",
        "      layers.Softmax()])\n",
        "\n",
        "model.compile(optimizer=keras.optimizers.Adam(learning_rate=learning_rate),\n",
        "              loss=tf.keras.losses.SparseCategoricalCrossentropy(from_logits=False),\n",
        "              metrics=['accuracy'])"
      ],
      "execution_count": 5,
      "outputs": []
    },
    {
      "cell_type": "code",
      "metadata": {
        "colab": {
          "base_uri": "https://localhost:8080/",
          "height": 285
        },
        "id": "IGbfDOMX0VFH",
        "outputId": "934f6e78-422b-4c9a-ea34-fb309e72e7db"
      },
      "source": [
        "dnn_history = model.fit(trainX, trainY, epochs=50, verbose=0, batch_size=batch_size)\n",
        "plot_loss(dnn_history)"
      ],
      "execution_count": 6,
      "outputs": [
        {
          "output_type": "display_data",
          "data": {
            "image/png": "[encoded data removed]",
            "text/plain": [
              "<Figure size 432x288 with 1 Axes>"
            ]
          },
          "metadata": {
            "tags": [],
            "needs_background": "light"
          }
        }
      ]
    },
    {
      "cell_type": "code",
      "metadata": {
        "colab": {
          "base_uri": "https://localhost:8080/"
        },
        "id": "YJGWT8I81mgm",
        "outputId": "b9cdb3f6-fb72-4104-ca88-9278b17bbe81"
      },
      "source": [
        "test_loss, test_acc = model.evaluate(testX, testY, verbose=2)\n",
        "# print('\\nTest accuracy:', test_acc)"
      ],
      "execution_count": 7,
      "outputs": [
        {
          "output_type": "stream",
          "text": [
            "7/7 - 0s - loss: 0.5272 - accuracy: 0.7500\n"
          ],
          "name": "stdout"
        }
      ]
    },
    {
      "cell_type": "markdown",
      "metadata": {
        "id": "2pHBZgOJ7mpD"
      },
      "source": [
        "## Results"
      ]
    },
    {
      "cell_type": "code",
      "metadata": {
        "colab": {
          "base_uri": "https://localhost:8080/"
        },
        "id": "Ualx2h767oMI",
        "outputId": "c58e35ec-9724-44a5-813e-9e0cc2bfd907"
      },
      "source": [
        "# probability_model = tf.keras.Sequential([model, tf.keras.layers.Softmax()])\n",
        "dnn_predictions = model.predict(testX)\n",
        "plot_accuracy(dnn_predictions)\n",
        "from sklearn.metrics import roc_auc_score\n",
        "print(\"AUC: {}\".format(roc_auc_score(testY, dnn_predictions[:,1])))"
      ],
      "execution_count": 8,
      "outputs": [
        {
          "output_type": "stream",
          "text": [
            "Accuracy: 0.75\n",
            "Precision: 0.7908496732026143\n",
            "Recall: 0.8705035971223022\n",
            "F-Measure: 0.8287671232876712\n",
            "AUC: 0.7664818964500532\n"
          ],
          "name": "stdout"
        }
      ]
    }
  ]
}