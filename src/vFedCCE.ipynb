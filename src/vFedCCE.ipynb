{
  "nbformat": 4,
  "nbformat_minor": 0,
  "metadata": {
    "colab": {
      "name": "vFedCCE_v3.1.ipynb",
      "provenance": [],
      "collapsed_sections": [
        "uN7CVyRyvmOZ"
      ]
    },
    "kernelspec": {
      "display_name": "Python 3",
      "language": "python",
      "name": "python3"
    },
    "language_info": {
      "codemirror_mode": {
        "name": "ipython",
        "version": 3
      },
      "file_extension": ".py",
      "mimetype": "text/x-python",
      "name": "python",
      "nbconvert_exporter": "python",
      "pygments_lexer": "ipython3",
      "version": "3.8.8"
    }
  },
  "cells": [
    {
      "cell_type": "markdown",
      "metadata": {
        "id": "IrS5l6QhiB-f"
      },
      "source": [
        "# Federated Deep Learning on Vertically Partitioned SGCP Dataset\n",
        "\n",
        "By Xiaochen Zhu"
      ]
    },
    {
      "cell_type": "markdown",
      "metadata": {
        "id": "krJ5flk0hXFt"
      },
      "source": [
        "## Background\n",
        "\n",
        "This notebook is an implementation of `vFedCCE` which is a private deep learning method using categorical cross entropy loss and gradient optimization to solve multi-category classfication problem in vertically partitioned datasets where labelled are only stored in one of the clients.\n",
        "\n",
        "This particular implementation is an example when there are two categories but the same method applies to all classfication problem where categorical cross entropy loss function is the minimization goal."
      ]
    },
    {
      "cell_type": "markdown",
      "metadata": {
        "id": "GvwbDDFvz_4q"
      },
      "source": [
        "## Set up environment"
      ]
    },
    {
      "cell_type": "markdown",
      "metadata": {
        "id": "dYeLUKxWuHcp"
      },
      "source": [
        "If you encounter error when running these `import`s, please restart runtime and try again."
      ]
    },
    {
      "cell_type": "code",
      "metadata": {
        "id": "1detcQtmh-Ez"
      },
      "source": [
        "import pandas as pd\n",
        "pd.set_option('display.max_colwidth', None)\n",
        "import numpy as np\n",
        "np.set_printoptions(precision=3, suppress=True)\n",
        "import seaborn as sns\n",
        "sns.set(style='whitegrid')\n",
        "import matplotlib.pyplot as plt\n",
        "import tensorflow as tf\n",
        "from tensorflow import keras\n",
        "from keras import layers\n",
        "from keras import regularizers\n",
        "from sklearn.model_selection import train_test_split\n",
        "from keras.layers.experimental import preprocessing\n",
        "import math\n",
        "import uuid\n",
        "import random\n",
        "import zipfile\n",
        "\n",
        "! pip -q install phe\n",
        "from phe import paillier\n",
        "\n",
        "# ! pip -q install clkhash\n",
        "# from clkhash import clk, randomnames"
      ],
      "execution_count": 1,
      "outputs": []
    },
    {
      "cell_type": "markdown",
      "metadata": {
        "id": "EO0xTwUpj37u"
      },
      "source": [
        "## Data preperation\n",
        "\n",
        "We need to load the data and vertically partition the dataset into two clients where each of them will have half the features and one of them will store the labels."
      ]
    },
    {
      "cell_type": "markdown",
      "metadata": {
        "id": "GwhIo52XwTdz"
      },
      "source": [
        "### Load and vertically partition the data\n",
        "\n",
        "Just load the complete `csv` file into a dataframe."
      ]
    },
    {
      "cell_type": "code",
      "metadata": {
        "colab": {
          "base_uri": "https://localhost:8080/"
        },
        "id": "VOCQJ1kBVwUF",
        "outputId": "eec167c4-f694-4851-e2f7-dd320dd6ac3c"
      },
      "source": [
        "# Download the zip file from the internet and unzip it\n",
        "!wget https://archive.ics.uci.edu/ml/machine-learning-databases/00573/SouthGermanCredit.zip\n",
        "with zipfile.ZipFile('SouthGermanCredit.zip', 'r') as zip_ref:\n",
        "    zip_ref.extractall('./SouthGermanCredit/')"
      ],
      "execution_count": 2,
      "outputs": [
        {
          "output_type": "stream",
          "text": [
            "--2021-07-05 15:09:44--  https://archive.ics.uci.edu/ml/machine-learning-databases/00573/SouthGermanCredit.zip\n",
            "Resolving archive.ics.uci.edu (archive.ics.uci.edu)... 128.195.10.252\n",
            "Connecting to archive.ics.uci.edu (archive.ics.uci.edu)|128.195.10.252|:443... connected.\n",
            "HTTP request sent, awaiting response... 200 OK\n",
            "Length: 13130 (13K) [application/x-httpd-php]\n",
            "Saving to: ‘SouthGermanCredit.zip.2’\n",
            "\n",
            "SouthGermanCredit.z 100%[===================>]  12.82K  --.-KB/s    in 0s      \n",
            "\n",
            "2021-07-05 15:09:44 (98.4 MB/s) - ‘SouthGermanCredit.zip.2’ saved [13130/13130]\n",
            "\n"
          ],
          "name": "stdout"
        }
      ]
    },
    {
      "cell_type": "code",
      "metadata": {
        "colab": {
          "base_uri": "https://localhost:8080/",
          "height": 320
        },
        "id": "Mt62_qtCj9zC",
        "outputId": "ce7f5dc0-50bd-4144-8e68-c03c7f022d9e"
      },
      "source": [
        "original_df = pd.read_csv('./SouthGermanCredit/SouthGermanCredit.asc', sep=' ')\n",
        "original_df.describe()"
      ],
      "execution_count": 3,
      "outputs": [
        {
          "output_type": "execute_result",
          "data": {
            "text/html": [
              "<div>\n",
              "<style scoped>\n",
              "    .dataframe tbody tr th:only-of-type {\n",
              "        vertical-align: middle;\n",
              "    }\n",
              "\n",
              "    .dataframe tbody tr th {\n",
              "        vertical-align: top;\n",
              "    }\n",
              "\n",
              "    .dataframe thead th {\n",
              "        text-align: right;\n",
              "    }\n",
              "</style>\n",
              "<table border=\"1\" class=\"dataframe\">\n",
              "  <thead>\n",
              "    <tr style=\"text-align: right;\">\n",
              "      <th></th>\n",
              "      <th>laufkont</th>\n",
              "      <th>laufzeit</th>\n",
              "      <th>moral</th>\n",
              "      <th>verw</th>\n",
              "      <th>hoehe</th>\n",
              "      <th>sparkont</th>\n",
              "      <th>beszeit</th>\n",
              "      <th>rate</th>\n",
              "      <th>famges</th>\n",
              "      <th>buerge</th>\n",
              "      <th>wohnzeit</th>\n",
              "      <th>verm</th>\n",
              "      <th>alter</th>\n",
              "      <th>weitkred</th>\n",
              "      <th>wohn</th>\n",
              "      <th>bishkred</th>\n",
              "      <th>beruf</th>\n",
              "      <th>pers</th>\n",
              "      <th>telef</th>\n",
              "      <th>gastarb</th>\n",
              "      <th>kredit</th>\n",
              "    </tr>\n",
              "  </thead>\n",
              "  <tbody>\n",
              "    <tr>\n",
              "      <th>count</th>\n",
              "      <td>1000.000000</td>\n",
              "      <td>1000.000000</td>\n",
              "      <td>1000.00000</td>\n",
              "      <td>1000.000000</td>\n",
              "      <td>1000.00000</td>\n",
              "      <td>1000.000000</td>\n",
              "      <td>1000.000000</td>\n",
              "      <td>1000.000000</td>\n",
              "      <td>1000.00000</td>\n",
              "      <td>1000.000000</td>\n",
              "      <td>1000.000000</td>\n",
              "      <td>1000.000000</td>\n",
              "      <td>1000.00000</td>\n",
              "      <td>1000.000000</td>\n",
              "      <td>1000.000000</td>\n",
              "      <td>1000.000000</td>\n",
              "      <td>1000.000000</td>\n",
              "      <td>1000.000000</td>\n",
              "      <td>1000.000000</td>\n",
              "      <td>1000.000000</td>\n",
              "      <td>1000.000000</td>\n",
              "    </tr>\n",
              "    <tr>\n",
              "      <th>mean</th>\n",
              "      <td>2.577000</td>\n",
              "      <td>20.903000</td>\n",
              "      <td>2.54500</td>\n",
              "      <td>2.828000</td>\n",
              "      <td>3271.24800</td>\n",
              "      <td>2.105000</td>\n",
              "      <td>3.384000</td>\n",
              "      <td>2.973000</td>\n",
              "      <td>2.68200</td>\n",
              "      <td>1.145000</td>\n",
              "      <td>2.845000</td>\n",
              "      <td>2.358000</td>\n",
              "      <td>35.54200</td>\n",
              "      <td>2.675000</td>\n",
              "      <td>1.928000</td>\n",
              "      <td>1.407000</td>\n",
              "      <td>2.904000</td>\n",
              "      <td>1.845000</td>\n",
              "      <td>1.404000</td>\n",
              "      <td>1.963000</td>\n",
              "      <td>0.700000</td>\n",
              "    </tr>\n",
              "    <tr>\n",
              "      <th>std</th>\n",
              "      <td>1.257638</td>\n",
              "      <td>12.058814</td>\n",
              "      <td>1.08312</td>\n",
              "      <td>2.744439</td>\n",
              "      <td>2822.75176</td>\n",
              "      <td>1.580023</td>\n",
              "      <td>1.208306</td>\n",
              "      <td>1.118715</td>\n",
              "      <td>0.70808</td>\n",
              "      <td>0.477706</td>\n",
              "      <td>1.103718</td>\n",
              "      <td>1.050209</td>\n",
              "      <td>11.35267</td>\n",
              "      <td>0.705601</td>\n",
              "      <td>0.530186</td>\n",
              "      <td>0.577654</td>\n",
              "      <td>0.653614</td>\n",
              "      <td>0.362086</td>\n",
              "      <td>0.490943</td>\n",
              "      <td>0.188856</td>\n",
              "      <td>0.458487</td>\n",
              "    </tr>\n",
              "    <tr>\n",
              "      <th>min</th>\n",
              "      <td>1.000000</td>\n",
              "      <td>4.000000</td>\n",
              "      <td>0.00000</td>\n",
              "      <td>0.000000</td>\n",
              "      <td>250.00000</td>\n",
              "      <td>1.000000</td>\n",
              "      <td>1.000000</td>\n",
              "      <td>1.000000</td>\n",
              "      <td>1.00000</td>\n",
              "      <td>1.000000</td>\n",
              "      <td>1.000000</td>\n",
              "      <td>1.000000</td>\n",
              "      <td>19.00000</td>\n",
              "      <td>1.000000</td>\n",
              "      <td>1.000000</td>\n",
              "      <td>1.000000</td>\n",
              "      <td>1.000000</td>\n",
              "      <td>1.000000</td>\n",
              "      <td>1.000000</td>\n",
              "      <td>1.000000</td>\n",
              "      <td>0.000000</td>\n",
              "    </tr>\n",
              "    <tr>\n",
              "      <th>25%</th>\n",
              "      <td>1.000000</td>\n",
              "      <td>12.000000</td>\n",
              "      <td>2.00000</td>\n",
              "      <td>1.000000</td>\n",
              "      <td>1365.50000</td>\n",
              "      <td>1.000000</td>\n",
              "      <td>3.000000</td>\n",
              "      <td>2.000000</td>\n",
              "      <td>2.00000</td>\n",
              "      <td>1.000000</td>\n",
              "      <td>2.000000</td>\n",
              "      <td>1.000000</td>\n",
              "      <td>27.00000</td>\n",
              "      <td>3.000000</td>\n",
              "      <td>2.000000</td>\n",
              "      <td>1.000000</td>\n",
              "      <td>3.000000</td>\n",
              "      <td>2.000000</td>\n",
              "      <td>1.000000</td>\n",
              "      <td>2.000000</td>\n",
              "      <td>0.000000</td>\n",
              "    </tr>\n",
              "    <tr>\n",
              "      <th>50%</th>\n",
              "      <td>2.000000</td>\n",
              "      <td>18.000000</td>\n",
              "      <td>2.00000</td>\n",
              "      <td>2.000000</td>\n",
              "      <td>2319.50000</td>\n",
              "      <td>1.000000</td>\n",
              "      <td>3.000000</td>\n",
              "      <td>3.000000</td>\n",
              "      <td>3.00000</td>\n",
              "      <td>1.000000</td>\n",
              "      <td>3.000000</td>\n",
              "      <td>2.000000</td>\n",
              "      <td>33.00000</td>\n",
              "      <td>3.000000</td>\n",
              "      <td>2.000000</td>\n",
              "      <td>1.000000</td>\n",
              "      <td>3.000000</td>\n",
              "      <td>2.000000</td>\n",
              "      <td>1.000000</td>\n",
              "      <td>2.000000</td>\n",
              "      <td>1.000000</td>\n",
              "    </tr>\n",
              "    <tr>\n",
              "      <th>75%</th>\n",
              "      <td>4.000000</td>\n",
              "      <td>24.000000</td>\n",
              "      <td>4.00000</td>\n",
              "      <td>3.000000</td>\n",
              "      <td>3972.25000</td>\n",
              "      <td>3.000000</td>\n",
              "      <td>5.000000</td>\n",
              "      <td>4.000000</td>\n",
              "      <td>3.00000</td>\n",
              "      <td>1.000000</td>\n",
              "      <td>4.000000</td>\n",
              "      <td>3.000000</td>\n",
              "      <td>42.00000</td>\n",
              "      <td>3.000000</td>\n",
              "      <td>2.000000</td>\n",
              "      <td>2.000000</td>\n",
              "      <td>3.000000</td>\n",
              "      <td>2.000000</td>\n",
              "      <td>2.000000</td>\n",
              "      <td>2.000000</td>\n",
              "      <td>1.000000</td>\n",
              "    </tr>\n",
              "    <tr>\n",
              "      <th>max</th>\n",
              "      <td>4.000000</td>\n",
              "      <td>72.000000</td>\n",
              "      <td>4.00000</td>\n",
              "      <td>10.000000</td>\n",
              "      <td>18424.00000</td>\n",
              "      <td>5.000000</td>\n",
              "      <td>5.000000</td>\n",
              "      <td>4.000000</td>\n",
              "      <td>4.00000</td>\n",
              "      <td>3.000000</td>\n",
              "      <td>4.000000</td>\n",
              "      <td>4.000000</td>\n",
              "      <td>75.00000</td>\n",
              "      <td>3.000000</td>\n",
              "      <td>3.000000</td>\n",
              "      <td>4.000000</td>\n",
              "      <td>4.000000</td>\n",
              "      <td>2.000000</td>\n",
              "      <td>2.000000</td>\n",
              "      <td>2.000000</td>\n",
              "      <td>1.000000</td>\n",
              "    </tr>\n",
              "  </tbody>\n",
              "</table>\n",
              "</div>"
            ],
            "text/plain": [
              "          laufkont     laufzeit  ...      gastarb       kredit\n",
              "count  1000.000000  1000.000000  ...  1000.000000  1000.000000\n",
              "mean      2.577000    20.903000  ...     1.963000     0.700000\n",
              "std       1.257638    12.058814  ...     0.188856     0.458487\n",
              "min       1.000000     4.000000  ...     1.000000     0.000000\n",
              "25%       1.000000    12.000000  ...     2.000000     0.000000\n",
              "50%       2.000000    18.000000  ...     2.000000     1.000000\n",
              "75%       4.000000    24.000000  ...     2.000000     1.000000\n",
              "max       4.000000    72.000000  ...     2.000000     1.000000\n",
              "\n",
              "[8 rows x 21 columns]"
            ]
          },
          "metadata": {
            "tags": []
          },
          "execution_count": 3
        }
      ]
    },
    {
      "cell_type": "markdown",
      "metadata": {
        "id": "BKErxmSqESKH"
      },
      "source": [
        "Give all entries a uuid and shuffle the two datasets so that later they can find matches based on that uuid."
      ]
    },
    {
      "cell_type": "code",
      "metadata": {
        "id": "ELhWgppS89-a"
      },
      "source": [
        "id = pd.Series(range(0,1000)).apply(lambda i : str(uuid.uuid4()))\n",
        "df_with_id = original_df.copy()\n",
        "df_with_id['id'] = id\n",
        "df_with_id = df_with_id.set_index('id')\n",
        "client1_data = df_with_id[['moral','verw','beszeit','famges','wohnzeit','alter','wohn','beruf','telef','gastarb']]#.sample(frac=1)\n",
        "client2_data = df_with_id[['laufkont','laufzeit','hoehe','sparkont','rate','buerge','verm','weitkred','bishkred','pers','kredit']]#.sample(frac=1)"
      ],
      "execution_count": 4,
      "outputs": []
    },
    {
      "cell_type": "code",
      "metadata": {
        "colab": {
          "base_uri": "https://localhost:8080/"
        },
        "id": "IB3w2PrHC-2S",
        "outputId": "eb795416-117d-4d8f-e1bb-df267e56c9aa"
      },
      "source": [
        "# Client 1 has 10 features, no labels and the entries are shuffled\n",
        "# client 2 has 11 features and labels and the entries are shuffled\n",
        "print(client1_data)\n",
        "print(client2_data)"
      ],
      "execution_count": 5,
      "outputs": [
        {
          "output_type": "stream",
          "text": [
            "                                      moral  verw  ...  telef  gastarb\n",
            "id                                                 ...                \n",
            "071e0cf3-5b79-4bdd-b0a9-e7f382498a43      4     2  ...      1        2\n",
            "76b5663c-d7f3-4f7c-9783-e789cdc78898      4     0  ...      1        2\n",
            "524c9f37-a5c0-43b2-9bd9-8cf613bbbd51      2     9  ...      1        2\n",
            "20097113-7a9a-4422-a5cb-3216c4ad21b0      4     0  ...      1        1\n",
            "426b3393-dc7d-4d49-99b3-241675055cff      4     0  ...      1        1\n",
            "...                                     ...   ...  ...    ...      ...\n",
            "4e740d83-ba3a-4baa-8d03-62974ebaceeb      2     3  ...      1        2\n",
            "01ab8255-88a6-4397-aa66-d86e1afd9a5f      2     0  ...      1        2\n",
            "ee1cc123-01b5-4292-940f-0d4a501fef6b      4     0  ...      2        2\n",
            "a090a88e-e178-42bc-ad3f-00fa251845eb      2     3  ...      2        2\n",
            "e8328204-e9f5-4bff-b0b3-c0cb06f55524      2     2  ...      1        2\n",
            "\n",
            "[1000 rows x 10 columns]\n",
            "                                      laufkont  laufzeit  ...  pers  kredit\n",
            "id                                                        ...              \n",
            "071e0cf3-5b79-4bdd-b0a9-e7f382498a43         1        18  ...     2       1\n",
            "76b5663c-d7f3-4f7c-9783-e789cdc78898         1         9  ...     1       1\n",
            "524c9f37-a5c0-43b2-9bd9-8cf613bbbd51         2        12  ...     2       1\n",
            "20097113-7a9a-4422-a5cb-3216c4ad21b0         1        12  ...     1       1\n",
            "426b3393-dc7d-4d49-99b3-241675055cff         1        12  ...     2       1\n",
            "...                                        ...       ...  ...   ...     ...\n",
            "4e740d83-ba3a-4baa-8d03-62974ebaceeb         1        24  ...     1       0\n",
            "01ab8255-88a6-4397-aa66-d86e1afd9a5f         1        24  ...     2       0\n",
            "ee1cc123-01b5-4292-940f-0d4a501fef6b         4        21  ...     2       0\n",
            "a090a88e-e178-42bc-ad3f-00fa251845eb         2        12  ...     2       0\n",
            "e8328204-e9f5-4bff-b0b3-c0cb06f55524         1        30  ...     2       0\n",
            "\n",
            "[1000 rows x 11 columns]\n"
          ],
          "name": "stdout"
        }
      ]
    },
    {
      "cell_type": "markdown",
      "metadata": {
        "id": "uN7CVyRyvmOZ"
      },
      "source": [
        "### Train/test split (non overlapping)\n",
        "\n"
      ]
    },
    {
      "cell_type": "code",
      "metadata": {
        "id": "4jTp2x7sGlfz"
      },
      "source": [
        "# # I want the test dataset to be balanced so that it makes sense for precision, recall, specificity\n",
        "# # 100 common test entries\n",
        "# common_test_true_index = np.random.choice(client2_data[client2_data['kredit']==1.0].index, 50)\n",
        "# common_test_false_index = np.random.choice(client2_data[client2_data['kredit']==0.0].index, 50)\n",
        "# common_test_index = np.union1d(common_test_true_index, common_test_false_index)"
      ],
      "execution_count": 6,
      "outputs": []
    },
    {
      "cell_type": "code",
      "metadata": {
        "id": "Yb2VgDvQLcw7"
      },
      "source": [
        "# # Other than the seperately picked common test entries, randomly add more entries\n",
        "# client1_train, client1_test = train_test_split(client1_data.loc[~client1_data.index.isin(common_test_index)], test_size=0.05, random_state=42)\n",
        "# client2_train, client2_test = train_test_split(client2_data.loc[~client2_data.index.isin(common_test_index)], test_size=0.05, random_state=420)\n",
        "# client1_test = client1_data.loc[np.union1d(common_test_index, client1_test.index)]\n",
        "# client2_test = client2_data.loc[np.union1d(common_test_index, client2_test.index)]"
      ],
      "execution_count": 7,
      "outputs": []
    },
    {
      "cell_type": "markdown",
      "metadata": {
        "id": "tas5fy5MpGUU"
      },
      "source": [
        "### [Do not run together with the previous section] Train/test split (overlapping)"
      ]
    },
    {
      "cell_type": "code",
      "metadata": {
        "id": "oFexwfz2pS97"
      },
      "source": [
        "client1_train, client1_test = train_test_split(client1_data, test_size=0.2, random_state=69)\n",
        "client2_train = client2_data.loc[client1_train.index]\n",
        "client2_test = client2_data.loc[client1_test.index]"
      ],
      "execution_count": 8,
      "outputs": []
    },
    {
      "cell_type": "markdown",
      "metadata": {
        "id": "olCDKs_wUA0d"
      },
      "source": [
        "### Train/test datasets info "
      ]
    },
    {
      "cell_type": "code",
      "metadata": {
        "colab": {
          "base_uri": "https://localhost:8080/"
        },
        "id": "n4scfoxvT89a",
        "outputId": "77510492-372c-4fc3-cf8f-e19dd41ff39f"
      },
      "source": [
        "common_train_index = client1_train.index.intersection(client2_train.index)\n",
        "common_test_index = client1_test.index.intersection(client2_test.index)\n",
        "\n",
        "print(\n",
        "    'There are {} common entries (out of {}) in client 1 and client 2\\'s training datasets,\\nand {} common entries (out of {}) in their test datasets'\n",
        "    .format(\n",
        "        len(common_train_index),\n",
        "        len(client1_train),\n",
        "        len(common_test_index),\n",
        "        len(client1_test)))"
      ],
      "execution_count": 9,
      "outputs": [
        {
          "output_type": "stream",
          "text": [
            "There are 800 common entries (out of 800) in client 1 and client 2's training datasets,\n",
            "and 200 common entries (out of 200) in their test datasets\n"
          ],
          "name": "stdout"
        }
      ]
    },
    {
      "cell_type": "markdown",
      "metadata": {
        "id": "u-4a_1wPuYCm"
      },
      "source": [
        "## `vFedCCE`"
      ]
    },
    {
      "cell_type": "markdown",
      "metadata": {
        "id": "zLux0WFF5TSg"
      },
      "source": [
        "### Parameters"
      ]
    },
    {
      "cell_type": "code",
      "metadata": {
        "id": "FL-9Jwyh2SK8"
      },
      "source": [
        "batch_size = 32\n",
        "learning_rate = 1e-3\n",
        "epochs = 50\n",
        "\n",
        "# Instantiate an optimizer.\n",
        "optimizer=keras.optimizers.Adam(learning_rate=learning_rate)\n",
        "# Instantiate a loss function.\n",
        "# Not from logits because of the softmax layer converting logits to probability.\n",
        "loss_fn = keras.losses.SparseCategoricalCrossentropy(from_logits=False)\n",
        "# Instantiate a metric function (accuracy)\n",
        "train_acc_metric = tf.keras.metrics.SparseCategoricalAccuracy()"
      ],
      "execution_count": 10,
      "outputs": []
    },
    {
      "cell_type": "markdown",
      "metadata": {
        "id": "6rAueFqzdWue"
      },
      "source": [
        "### Helpers"
      ]
    },
    {
      "cell_type": "code",
      "metadata": {
        "id": "ivoFVuOZ3nf_"
      },
      "source": [
        "def plot_loss(loss, accuracy):\n",
        "  plt.plot(loss, label='loss')\n",
        "  plt.plot(accuracy, label='accuracy')\n",
        "  plt.xlabel('Epoch')\n",
        "  # plt.ylabel('Error')\n",
        "  plt.legend()\n",
        "  plt.grid(True)\n",
        "\n",
        "def plot_accuracy(predictions, answers):\n",
        "  tp, tn, fp, fn = 0, 0, 0, 0\n",
        "\n",
        "  for x in range(len(predictions)):\n",
        "    if answers[x] == 1:\n",
        "      if np.argmax(predictions[x]) == 1:\n",
        "        tp = tp + 1\n",
        "      else:\n",
        "        fn = fn + 1\n",
        "    else:\n",
        "      if np.argmax(predictions[x]) == 0:\n",
        "        tn = tn + 1\n",
        "      else:\n",
        "        fp = fp + 1\n",
        "  \n",
        "  accuracy = (tp + tn)/(tp + fp + fn + tn)\n",
        "  precision = tp / (tp + fp)\n",
        "  recall = tp / (tp + fn)\n",
        "  specificity = tn / (tn + fp)\n",
        "  print(\"Accuracy: \" + str(accuracy))\n",
        "  print(\"Precision: \" + str(precision))\n",
        "  print(\"Recall: \" + str(recall))\n",
        "  # print(\"Specificity: \" + str(specificity))\n",
        "  print(\"F-Measure: \" + str(2*(recall * precision) / (recall + precision)))\n",
        "\n",
        "\n",
        "def convert_to_non_sparse(sparse):\n",
        "  vector_list = np.zeros((len(sparse), 2))\n",
        "  for x in range(len(sparse)):\n",
        "    vector_list[x] = [1 - sparse[x], sparse[x]]\n",
        "  return vector_list"
      ],
      "execution_count": 11,
      "outputs": []
    },
    {
      "cell_type": "markdown",
      "metadata": {
        "id": "7siRHZKif-Ry"
      },
      "source": [
        "### The `Client` class\n",
        "\n",
        "Client 1 and client 2 both have half the features. Client 2 also stores the labels. If before each update of parameters, client 1 can send its partial prediction and other intermediate data to client 2, client 2 will be able to calculate the total loss and update the total model and give that updated model back to client 1.\n",
        "\n",
        "Note that in this iteration of implementation, I do not plan to add implementation of entity resolution. Therefore, the examples with the same index on the two clients is ensured to point to the same end user."
      ]
    },
    {
      "cell_type": "code",
      "metadata": {
        "id": "Nvxl9mxjgJqg"
      },
      "source": [
        "class Client:\n",
        "\n",
        "  def __init__(self, train_data, test_data, labelled):\n",
        "    self.__trainX = train_data.copy()\n",
        "    self.__testX = test_data.copy()\n",
        "    self.labelled = labelled\n",
        "\n",
        "    if (labelled):\n",
        "      self.__trainY = self.__trainX.pop('kredit')\n",
        "      self.__testY = self.__testX.pop('kredit')\n",
        "\n",
        "    normalizer = preprocessing.Normalization()\n",
        "    normalizer.adapt(np.array(self.__trainX.loc[common_train_index]))\n",
        "\n",
        "    self.model = tf.keras.Sequential([\n",
        "      normalizer,\n",
        "      layers.Dense(128, activation='elu', kernel_regularizer=regularizers.l2(0.01)),\n",
        "      layers.Dropout(0.5),\n",
        "      layers.Dense(128, activation='elu', kernel_regularizer=regularizers.l2(0.01)),\n",
        "      layers.Dropout(0.5),\n",
        "      layers.Dense(2),\n",
        "      layers.Softmax()])\n",
        "    \n",
        "  def next_batch(self, index):\n",
        "    self.batchX = self.__trainX.loc[index]\n",
        "    if not self.labelled:\n",
        "      grads = []\n",
        "      self.model_output = np.zeros((len(index), 2))\n",
        "      for i in range(len(index)):\n",
        "        with tf.GradientTape() as gt:\n",
        "          gt.watch(self.model.trainable_weights)\n",
        "          output_by_example = self.model(self.batchX.iloc[i:i+1], training=True)\n",
        "          output_for_grad = output_by_example[:,1]\n",
        "        self.model_output[i] = output_by_example\n",
        "        grads.append(gt.gradient(output_for_grad, self.model.trainable_weights))\n",
        "      return grads\n",
        "    else:\n",
        "      self.batchY = self.__trainY.loc[index]\n",
        "      with tf.GradientTape() as self.gt:\n",
        "        self.gt.watch(self.model.trainable_weights)\n",
        "        self.model_output = self.model(self.batchX, training=True)\n",
        "\n",
        "  def cal_model(self):\n",
        "    return self.model_output\n",
        "  \n",
        "  def predict(self, test_index):\n",
        "    return self.model.predict(self.__testX.loc[test_index])# + 1e-8\n",
        "\n",
        "  def test_answers(self, test_index):\n",
        "    if self.labelled:\n",
        "      return self.__testY.loc[test_index]\n",
        "  \n",
        "  def batch_answers(self):\n",
        "    if self.labelled:\n",
        "      return self.batchY\n",
        "\n",
        "  def loss_and_update(self, a):\n",
        "    if not self.labelled:\n",
        "      raise AssertionError(\"This method can only be called by client 2\")\n",
        "    self.prob = (a + self.model_output)/2\n",
        "    self.c = self.coefficient_and_update()/len(self.batchX)\n",
        "    return self.prob, loss_fn(self.batchY, self.prob)\n",
        "  \n",
        "  def coefficient_and_update(self):\n",
        "    if not self.labelled:\n",
        "      raise AssertionError(\"This method can only be called by client 2\")\n",
        "    p = self.prob[:,1]\n",
        "    c = (p-self.batchY)/((p)*(1-p))\n",
        "    with self.gt:\n",
        "      output = sum(c * self.model_output[:,1])/len(c)\n",
        "    grads = self.gt.gradient(output, self.model.trainable_weights)\n",
        "    optimizer.apply_gradients(zip(grads, self.model.trainable_weights))\n",
        "    return c\n",
        "  \n",
        "  def update_with(self, grads):\n",
        "    optimizer.apply_gradients(zip(grads, self.model.trainable_weights))\n",
        "\n",
        "  def assemble_grad(self, partial_grads):\n",
        "    if not self.labelled:\n",
        "      raise AssertionError(\"This method can only be called by client 2\")\n",
        "    # to assemble the gradient for client 1\n",
        "    for i in range(len(self.c)):\n",
        "      partial_grads[i] = [x * self.c[i] for x in partial_grads[i]]\n",
        "    return [sum(x) for x in zip(*partial_grads)]"
      ],
      "execution_count": 12,
      "outputs": []
    },
    {
      "cell_type": "code",
      "metadata": {
        "id": "GDy-LsCOgNWp"
      },
      "source": [
        "client1 = Client(client1_train, client1_test, False)\n",
        "client2 = Client(client2_train, client2_test, True)"
      ],
      "execution_count": 13,
      "outputs": []
    },
    {
      "cell_type": "markdown",
      "metadata": {
        "id": "lNpoYAT_5a4j"
      },
      "source": [
        "### Training loop"
      ]
    },
    {
      "cell_type": "code",
      "metadata": {
        "id": "6SwV1kvvr5vg"
      },
      "source": [
        "# train_index_batches = [common_train_index[i:i + batch_size] for i in range(0, len(common_train_index), batch_size)] \n",
        "common_train_index_list = common_train_index.to_list()"
      ],
      "execution_count": 14,
      "outputs": []
    },
    {
      "cell_type": "code",
      "metadata": {
        "colab": {
          "base_uri": "https://localhost:8080/",
          "height": 285
        },
        "id": "XcQA4Az_ucKL",
        "outputId": "8215a60b-ca7d-436e-8ff8-412658208382"
      },
      "source": [
        "epoch_loss = []\n",
        "epoch_acc = []\n",
        "\n",
        "for epoch in range(epochs):\n",
        "  random.shuffle(common_train_index_list)\n",
        "  train_index_batches = [common_train_index_list[i:i + batch_size] for i in range(0, len(common_train_index_list), batch_size)] \n",
        "  total_loss = 0.0\n",
        "  # Iterate over the batches of the dataset.\n",
        "  for step, batch_index in enumerate(train_index_batches):\n",
        "    \n",
        "    partial_grads = client1.next_batch(batch_index)\n",
        "    client2.next_batch(batch_index)\n",
        "\n",
        "    prob, loss_value = client2.loss_and_update(client1.cal_model())\n",
        "    grad = client2.assemble_grad(partial_grads)\n",
        "    client1.update_with(grad)\n",
        "    \n",
        "    total_loss = loss_value + total_loss\n",
        "    train_acc_metric.update_state(client2.batch_answers(), prob)\n",
        "  \n",
        "  train_acc = train_acc_metric.result()\n",
        "  train_acc_metric.reset_states()\n",
        "  epoch_loss.append((total_loss)/(step + 1))\n",
        "  epoch_acc.append(train_acc)\n",
        "\n",
        "plot_loss(epoch_loss, epoch_acc)"
      ],
      "execution_count": 15,
      "outputs": [
        {
          "output_type": "display_data",
          "data": {
            "image/png": "[encoded data removed]",
            "text/plain": [
              "<Figure size 432x288 with 1 Axes>"
            ]
          },
          "metadata": {
            "tags": [],
            "needs_background": "light"
          }
        }
      ]
    },
    {
      "cell_type": "markdown",
      "metadata": {
        "id": "QXjypFNEhK9W"
      },
      "source": [
        "### Make predictions on test data"
      ]
    },
    {
      "cell_type": "code",
      "metadata": {
        "colab": {
          "base_uri": "https://localhost:8080/"
        },
        "id": "Y9GlkudJhPSN",
        "outputId": "f7cd0f83-4f2d-4882-e267-e25be26b2bcc"
      },
      "source": [
        "predictions = (client1.predict(common_test_index) + client2.predict(common_test_index))/2\n",
        "# predictions and answers are already aligned\n",
        "plot_accuracy(predictions, client2.test_answers(common_test_index))\n",
        "from sklearn.metrics import roc_auc_score\n",
        "print(\"AUC: {}\".format(roc_auc_score(client2.test_answers(common_test_index), predictions[:,1])))"
      ],
      "execution_count": 16,
      "outputs": [
        {
          "output_type": "stream",
          "text": [
            "Accuracy: 0.76\n",
            "Precision: 0.7692307692307693\n",
            "Recall: 0.935251798561151\n",
            "F-Measure: 0.8441558441558442\n",
            "AUC: 0.7637693124189172\n"
          ],
          "name": "stdout"
        }
      ]
    }
  ]
}